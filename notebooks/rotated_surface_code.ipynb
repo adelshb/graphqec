{
 "cells": [
  {
   "cell_type": "code",
   "execution_count": 1,
   "metadata": {},
   "outputs": [],
   "source": [
    "import numpy as np\n",
    "import matplotlib.pyplot as plt\n",
    "\n",
    "from qec import RotatedSurfaceCode"
   ]
  },
  {
   "cell_type": "code",
   "execution_count": null,
   "metadata": {},
   "outputs": [],
   "source": [
    "rsc = RotatedSurfaceCode(\n",
    "    distance = 3,\n",
    "    depolarize1_rate = 0.05,\n",
    "    depolarize2_rate = 0.05\n",
    ")\n",
    "\n",
    "rsc.build_memory_circuit(number_of_rounds=1)\n",
    "rsc.memory_circuit.diagram()"
   ]
  },
  {
   "cell_type": "code",
   "execution_count": null,
   "metadata": {},
   "outputs": [],
   "source": [
    "num_shots = 10**4\n",
    "prob_errors = np.linspace(0, 0.1, 10)\n",
    "\n",
    "collected_stats = {}\n",
    "\n",
    "for distance in [3, 5, 7]:\n",
    "    \n",
    "    temp_logical_error_rate = []\n",
    "    \n",
    "    for prob_error in prob_errors:\n",
    "        \n",
    "        rep = RotatedSurfaceCode(\n",
    "            distance = distance,\n",
    "            depolarize1_rate = prob_error,\n",
    "            depolarize2_rate = prob_error\n",
    "        )\n",
    "        rep.build_memory_circuit(number_of_rounds=distance*3)\n",
    "        num_errors_sampled = rep.compute_logical_errors(num_shots)\n",
    "        temp_logical_error_rate.append(num_errors_sampled / num_shots)\n",
    "        \n",
    "    collected_stats[distance] = temp_logical_error_rate"
   ]
  },
  {
   "cell_type": "code",
   "execution_count": null,
   "metadata": {},
   "outputs": [],
   "source": [
    "fig, ax = plt.subplots(1, 1)\n",
    "\n",
    "for distance in collected_stats.keys():\n",
    "    ax.plot(prob_errors, collected_stats[distance], label=f\"d={distance}\")\n",
    "    \n",
    "ax.set_ylim(5e-2, 5e-1)\n",
    "ax.set_xlim(5e-2, 1e-1)\n",
    "ax.loglog()\n",
    "ax.set_title(\"Repetition Code Error Rates\")\n",
    "ax.set_xlabel(\"Phyical Error Rate\")\n",
    "ax.set_ylabel(\"Logical Error Rate\")\n",
    "ax.grid(which='major')\n",
    "ax.grid(which='minor')\n",
    "ax.legend()\n",
    "fig.set_dpi(120)"
   ]
  }
 ],
 "metadata": {
  "kernelspec": {
   "display_name": ".env",
   "language": "python",
   "name": "python3"
  },
  "language_info": {
   "codemirror_mode": {
    "name": "ipython",
    "version": 3
   },
   "file_extension": ".py",
   "mimetype": "text/x-python",
   "name": "python",
   "nbconvert_exporter": "python",
   "pygments_lexer": "ipython3",
   "version": "3.12.4"
  }
 },
 "nbformat": 4,
 "nbformat_minor": 2
}
