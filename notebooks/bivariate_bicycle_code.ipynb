{
 "cells": [
  {
   "cell_type": "code",
   "execution_count": 1,
   "metadata": {},
   "outputs": [],
   "source": [
    "import numpy as np\n",
    "from graphqec import BivariateBicycleCode, ThresholdLAB"
   ]
  },
  {
   "cell_type": "code",
   "execution_count": 2,
   "metadata": {},
   "outputs": [],
   "source": [
    "bb = BivariateBicycleCode()\n",
    "bb.build_memory_circuit(number_of_rounds=2)"
   ]
  },
  {
   "cell_type": "code",
   "execution_count": 3,
   "metadata": {},
   "outputs": [],
   "source": [
    "num_shots = 1\n",
    "sampler = bb.memory_circuit.compile_detector_sampler()\n",
    "detection_events, observable_flips = sampler.sample(\n",
    "    num_shots, separate_observables=True\n",
    ")\n",
    "\n",
    "detector_error_model = bb.memory_circuit.detector_error_model(\n",
    "    decompose_errors=False\n",
    ")"
   ]
  },
  {
   "cell_type": "code",
   "execution_count": null,
   "metadata": {},
   "outputs": [],
   "source": [
    "th = ThresholdLAB(\n",
    "    configurations= [{}],\n",
    "    code=BivariateBicycleCode,\n",
    "    error_rates= np.linspace(0, 0.1, 5)\n",
    ")\n",
    "\n",
    "th.collect_stats(num_shots=10**1)"
   ]
  }
 ],
 "metadata": {
  "kernelspec": {
   "display_name": ".env",
   "language": "python",
   "name": "python3"
  },
  "language_info": {
   "codemirror_mode": {
    "name": "ipython",
    "version": 3
   },
   "file_extension": ".py",
   "mimetype": "text/x-python",
   "name": "python",
   "nbconvert_exporter": "python",
   "pygments_lexer": "ipython3",
   "version": "3.12.4"
  }
 },
 "nbformat": 4,
 "nbformat_minor": 2
}
