{
 "cells": [
  {
   "cell_type": "code",
   "execution_count": 1,
   "metadata": {},
   "outputs": [],
   "source": [
    "from qec import RepetitionCode"
   ]
  },
  {
   "cell_type": "code",
   "execution_count": 2,
   "metadata": {},
   "outputs": [],
   "source": [
    "rep = RepetitionCode(\n",
    "    distance = 2,\n",
    "    depolarize1_rate = 0,\n",
    "    depolarize2_rate = 0\n",
    ")\n",
    "\n",
    "rep.build_memory_circuit()"
   ]
  },
  {
   "cell_type": "code",
   "execution_count": 3,
   "metadata": {},
   "outputs": [
    {
     "data": {
      "text/plain": [
       "stim.Circuit('''\n",
       "    DEPOLARIZE1(0) 0 1\n",
       "    R 2\n",
       "    DEPOLARIZE1(0) 2\n",
       "    CX 0 2\n",
       "    DEPOLARIZE2(0) 0 2\n",
       "    DEPOLARIZE1(0) 0\n",
       "    CX 1 2\n",
       "    DEPOLARIZE2(0) 1 2\n",
       "    DEPOLARIZE1(0) 2\n",
       "    M 2\n",
       "    DETECTOR rec[-1]\n",
       "    R 2\n",
       "    DEPOLARIZE1(0) 2\n",
       "    CX 0 2\n",
       "    DEPOLARIZE2(0) 0 2\n",
       "    DEPOLARIZE1(0) 0\n",
       "    CX 1 2\n",
       "    DEPOLARIZE2(0) 1 2\n",
       "    DEPOLARIZE1(0) 2\n",
       "    M 2\n",
       "    DETECTOR rec[-1] rec[-2]\n",
       "    M 0\n",
       "    DETECTOR rec[-1] rec[-2] rec[-3]\n",
       "    M 1\n",
       "''')"
      ]
     },
     "execution_count": 3,
     "metadata": {},
     "output_type": "execute_result"
    }
   ],
   "source": [
    "rep.memory_circuit"
   ]
  },
  {
   "cell_type": "code",
   "execution_count": null,
   "metadata": {},
   "outputs": [],
   "source": []
  }
 ],
 "metadata": {
  "kernelspec": {
   "display_name": ".env",
   "language": "python",
   "name": "python3"
  },
  "language_info": {
   "codemirror_mode": {
    "name": "ipython",
    "version": 3
   },
   "file_extension": ".py",
   "mimetype": "text/x-python",
   "name": "python",
   "nbconvert_exporter": "python",
   "pygments_lexer": "ipython3",
   "version": "3.12.4"
  }
 },
 "nbformat": 4,
 "nbformat_minor": 2
}
