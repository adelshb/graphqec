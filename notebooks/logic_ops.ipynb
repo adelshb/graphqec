{
 "cells": [
  {
   "cell_type": "code",
   "execution_count": 1,
   "metadata": {},
   "outputs": [],
   "source": [
    "import numpy as np\n",
    "import networkx as nx\n",
    "\n",
    "from graphqec import RepetitionCode, RotatedSurfaceCode, CssCode, BivariateBicycleCode,commutation_test"
   ]
  },
  {
   "cell_type": "code",
   "execution_count": 2,
   "metadata": {},
   "outputs": [],
   "source": [
    "bbc = BivariateBicycleCode(\n",
    "    Lx = 6,\n",
    "    Ly = 6,\n",
    "    a1 = 3,\n",
    "    a2 = 1,\n",
    "    a3 = 2,\n",
    "    b1 = 3,\n",
    "    b2 = 1,\n",
    "    b3 = 2,\n",
    ")"
   ]
  },
  {
   "cell_type": "code",
   "execution_count": 3,
   "metadata": {},
   "outputs": [],
   "source": [
    "A = bbc.A1+bbc.A2+bbc.A3\n",
    "B = bbc.B1+bbc.B2+bbc.B3"
   ]
  },
  {
   "cell_type": "code",
   "execution_count": 4,
   "metadata": {},
   "outputs": [],
   "source": [
    "Hx = np.hstack((bbc.A,bbc.B))\n",
    "Hz = np.hstack((bbc.B.T, bbc.A.T))"
   ]
  },
  {
   "cell_type": "code",
   "execution_count": 5,
   "metadata": {},
   "outputs": [],
   "source": [
    "cssbbc = CssCode(Hx,Hz)"
   ]
  },
  {
   "cell_type": "code",
   "execution_count": 6,
   "metadata": {},
   "outputs": [
    {
     "data": {
      "text/plain": [
       "{0: {'type': 'data', 'label': None, 'label_id': 0},\n",
       " 1: {'type': 'data', 'label': None, 'label_id': 1},\n",
       " 2: {'type': 'data', 'label': None, 'label_id': 2},\n",
       " 3: {'type': 'data', 'label': None, 'label_id': 3},\n",
       " 4: {'type': 'data', 'label': None, 'label_id': 4},\n",
       " 5: {'type': 'data', 'label': None, 'label_id': 5},\n",
       " 6: {'type': 'data', 'label': None, 'label_id': 6},\n",
       " 7: {'type': 'data', 'label': None, 'label_id': 7},\n",
       " 8: {'type': 'data', 'label': None, 'label_id': 8},\n",
       " 9: {'type': 'data', 'label': None, 'label_id': 9},\n",
       " 10: {'type': 'data', 'label': None, 'label_id': 10},\n",
       " 11: {'type': 'data', 'label': None, 'label_id': 11},\n",
       " 12: {'type': 'data', 'label': None, 'label_id': 12},\n",
       " 13: {'type': 'data', 'label': None, 'label_id': 13},\n",
       " 14: {'type': 'data', 'label': None, 'label_id': 14},\n",
       " 15: {'type': 'data', 'label': None, 'label_id': 15},\n",
       " 16: {'type': 'data', 'label': None, 'label_id': 16},\n",
       " 17: {'type': 'data', 'label': None, 'label_id': 17},\n",
       " 18: {'type': 'data', 'label': None, 'label_id': 18},\n",
       " 19: {'type': 'data', 'label': None, 'label_id': 19},\n",
       " 20: {'type': 'data', 'label': None, 'label_id': 20},\n",
       " 21: {'type': 'data', 'label': None, 'label_id': 21},\n",
       " 22: {'type': 'data', 'label': None, 'label_id': 22},\n",
       " 23: {'type': 'data', 'label': None, 'label_id': 23},\n",
       " 24: {'type': 'data', 'label': None, 'label_id': 24},\n",
       " 25: {'type': 'data', 'label': None, 'label_id': 25},\n",
       " 26: {'type': 'data', 'label': None, 'label_id': 26},\n",
       " 27: {'type': 'data', 'label': None, 'label_id': 27},\n",
       " 28: {'type': 'data', 'label': None, 'label_id': 28},\n",
       " 29: {'type': 'data', 'label': None, 'label_id': 29},\n",
       " 30: {'type': 'data', 'label': None, 'label_id': 30},\n",
       " 31: {'type': 'data', 'label': None, 'label_id': 31},\n",
       " 32: {'type': 'data', 'label': None, 'label_id': 32},\n",
       " 33: {'type': 'data', 'label': None, 'label_id': 33},\n",
       " 34: {'type': 'data', 'label': None, 'label_id': 34},\n",
       " 35: {'type': 'data', 'label': None, 'label_id': 35},\n",
       " 36: {'type': 'data', 'label': None, 'label_id': 36},\n",
       " 37: {'type': 'data', 'label': None, 'label_id': 37},\n",
       " 38: {'type': 'data', 'label': None, 'label_id': 38},\n",
       " 39: {'type': 'data', 'label': None, 'label_id': 39},\n",
       " 40: {'type': 'data', 'label': None, 'label_id': 40},\n",
       " 41: {'type': 'data', 'label': None, 'label_id': 41},\n",
       " 42: {'type': 'data', 'label': None, 'label_id': 42},\n",
       " 43: {'type': 'data', 'label': None, 'label_id': 43},\n",
       " 44: {'type': 'data', 'label': None, 'label_id': 44},\n",
       " 45: {'type': 'data', 'label': None, 'label_id': 45},\n",
       " 46: {'type': 'data', 'label': None, 'label_id': 46},\n",
       " 47: {'type': 'data', 'label': None, 'label_id': 47},\n",
       " 48: {'type': 'data', 'label': None, 'label_id': 48},\n",
       " 49: {'type': 'data', 'label': None, 'label_id': 49},\n",
       " 50: {'type': 'data', 'label': None, 'label_id': 50},\n",
       " 51: {'type': 'data', 'label': None, 'label_id': 51},\n",
       " 52: {'type': 'data', 'label': None, 'label_id': 52},\n",
       " 53: {'type': 'data', 'label': None, 'label_id': 53},\n",
       " 54: {'type': 'data', 'label': None, 'label_id': 54},\n",
       " 55: {'type': 'data', 'label': None, 'label_id': 55},\n",
       " 56: {'type': 'data', 'label': None, 'label_id': 56},\n",
       " 57: {'type': 'data', 'label': None, 'label_id': 57},\n",
       " 58: {'type': 'data', 'label': None, 'label_id': 58},\n",
       " 59: {'type': 'data', 'label': None, 'label_id': 59},\n",
       " 60: {'type': 'data', 'label': None, 'label_id': 60},\n",
       " 61: {'type': 'data', 'label': None, 'label_id': 61},\n",
       " 62: {'type': 'data', 'label': None, 'label_id': 62},\n",
       " 63: {'type': 'data', 'label': None, 'label_id': 63},\n",
       " 64: {'type': 'data', 'label': None, 'label_id': 64},\n",
       " 65: {'type': 'data', 'label': None, 'label_id': 65},\n",
       " 66: {'type': 'data', 'label': None, 'label_id': 66},\n",
       " 67: {'type': 'data', 'label': None, 'label_id': 67},\n",
       " 68: {'type': 'data', 'label': None, 'label_id': 68},\n",
       " 69: {'type': 'data', 'label': None, 'label_id': 69},\n",
       " 70: {'type': 'data', 'label': None, 'label_id': 70},\n",
       " 71: {'type': 'data', 'label': None, 'label_id': 71},\n",
       " 72: {'type': 'check', 'label': 'X', 'label_id': 72},\n",
       " 73: {'type': 'check', 'label': 'X', 'label_id': 73},\n",
       " 74: {'type': 'check', 'label': 'X', 'label_id': 74},\n",
       " 75: {'type': 'check', 'label': 'X', 'label_id': 75},\n",
       " 76: {'type': 'check', 'label': 'X', 'label_id': 76},\n",
       " 77: {'type': 'check', 'label': 'X', 'label_id': 77},\n",
       " 78: {'type': 'check', 'label': 'X', 'label_id': 78},\n",
       " 79: {'type': 'check', 'label': 'X', 'label_id': 79},\n",
       " 80: {'type': 'check', 'label': 'X', 'label_id': 80},\n",
       " 81: {'type': 'check', 'label': 'X', 'label_id': 81},\n",
       " 82: {'type': 'check', 'label': 'X', 'label_id': 82},\n",
       " 83: {'type': 'check', 'label': 'X', 'label_id': 83},\n",
       " 84: {'type': 'check', 'label': 'X', 'label_id': 84},\n",
       " 85: {'type': 'check', 'label': 'X', 'label_id': 85},\n",
       " 86: {'type': 'check', 'label': 'X', 'label_id': 86},\n",
       " 87: {'type': 'check', 'label': 'X', 'label_id': 87},\n",
       " 88: {'type': 'check', 'label': 'X', 'label_id': 88},\n",
       " 89: {'type': 'check', 'label': 'X', 'label_id': 89},\n",
       " 90: {'type': 'check', 'label': 'X', 'label_id': 90},\n",
       " 91: {'type': 'check', 'label': 'X', 'label_id': 91},\n",
       " 92: {'type': 'check', 'label': 'X', 'label_id': 92},\n",
       " 93: {'type': 'check', 'label': 'X', 'label_id': 93},\n",
       " 94: {'type': 'check', 'label': 'X', 'label_id': 94},\n",
       " 95: {'type': 'check', 'label': 'X', 'label_id': 95},\n",
       " 96: {'type': 'check', 'label': 'X', 'label_id': 96},\n",
       " 97: {'type': 'check', 'label': 'X', 'label_id': 97},\n",
       " 98: {'type': 'check', 'label': 'X', 'label_id': 98},\n",
       " 99: {'type': 'check', 'label': 'X', 'label_id': 99},\n",
       " 100: {'type': 'check', 'label': 'X', 'label_id': 100},\n",
       " 101: {'type': 'check', 'label': 'X', 'label_id': 101},\n",
       " 102: {'type': 'check', 'label': 'X', 'label_id': 102},\n",
       " 103: {'type': 'check', 'label': 'X', 'label_id': 103},\n",
       " 104: {'type': 'check', 'label': 'X', 'label_id': 104},\n",
       " 105: {'type': 'check', 'label': 'X', 'label_id': 105},\n",
       " 106: {'type': 'check', 'label': 'X', 'label_id': 106},\n",
       " 107: {'type': 'check', 'label': 'X', 'label_id': 107},\n",
       " 108: {'type': 'check', 'label': 'Z', 'label_id': 108},\n",
       " 109: {'type': 'check', 'label': 'Z', 'label_id': 109},\n",
       " 110: {'type': 'check', 'label': 'Z', 'label_id': 110},\n",
       " 111: {'type': 'check', 'label': 'Z', 'label_id': 111},\n",
       " 112: {'type': 'check', 'label': 'Z', 'label_id': 112},\n",
       " 113: {'type': 'check', 'label': 'Z', 'label_id': 113},\n",
       " 114: {'type': 'check', 'label': 'Z', 'label_id': 114},\n",
       " 115: {'type': 'check', 'label': 'Z', 'label_id': 115},\n",
       " 116: {'type': 'check', 'label': 'Z', 'label_id': 116},\n",
       " 117: {'type': 'check', 'label': 'Z', 'label_id': 117},\n",
       " 118: {'type': 'check', 'label': 'Z', 'label_id': 118},\n",
       " 119: {'type': 'check', 'label': 'Z', 'label_id': 119},\n",
       " 120: {'type': 'check', 'label': 'Z', 'label_id': 120},\n",
       " 121: {'type': 'check', 'label': 'Z', 'label_id': 121},\n",
       " 122: {'type': 'check', 'label': 'Z', 'label_id': 122},\n",
       " 123: {'type': 'check', 'label': 'Z', 'label_id': 123},\n",
       " 124: {'type': 'check', 'label': 'Z', 'label_id': 124},\n",
       " 125: {'type': 'check', 'label': 'Z', 'label_id': 125},\n",
       " 126: {'type': 'check', 'label': 'Z', 'label_id': 126},\n",
       " 127: {'type': 'check', 'label': 'Z', 'label_id': 127},\n",
       " 128: {'type': 'check', 'label': 'Z', 'label_id': 128},\n",
       " 129: {'type': 'check', 'label': 'Z', 'label_id': 129},\n",
       " 130: {'type': 'check', 'label': 'Z', 'label_id': 130},\n",
       " 131: {'type': 'check', 'label': 'Z', 'label_id': 131},\n",
       " 132: {'type': 'check', 'label': 'Z', 'label_id': 132},\n",
       " 133: {'type': 'check', 'label': 'Z', 'label_id': 133},\n",
       " 134: {'type': 'check', 'label': 'Z', 'label_id': 134},\n",
       " 135: {'type': 'check', 'label': 'Z', 'label_id': 135},\n",
       " 136: {'type': 'check', 'label': 'Z', 'label_id': 136},\n",
       " 137: {'type': 'check', 'label': 'Z', 'label_id': 137},\n",
       " 138: {'type': 'check', 'label': 'Z', 'label_id': 138},\n",
       " 139: {'type': 'check', 'label': 'Z', 'label_id': 139},\n",
       " 140: {'type': 'check', 'label': 'Z', 'label_id': 140},\n",
       " 141: {'type': 'check', 'label': 'Z', 'label_id': 141},\n",
       " 142: {'type': 'check', 'label': 'Z', 'label_id': 142},\n",
       " 143: {'type': 'check', 'label': 'Z', 'label_id': 143}}"
      ]
     },
     "execution_count": 6,
     "metadata": {},
     "output_type": "execute_result"
    }
   ],
   "source": [
    "dict(cssbbc._graph.nodes(data=True))"
   ]
  },
  {
   "cell_type": "code",
   "execution_count": 7,
   "metadata": {},
   "outputs": [
    {
     "data": {
      "text/plain": [
       "72"
      ]
     },
     "execution_count": 7,
     "metadata": {},
     "output_type": "execute_result"
    }
   ],
   "source": [
    "cssbbc.nqubits"
   ]
  },
  {
   "cell_type": "code",
   "execution_count": 8,
   "metadata": {},
   "outputs": [
    {
     "data": {
      "text/plain": [
       "36"
      ]
     },
     "execution_count": 8,
     "metadata": {},
     "output_type": "execute_result"
    }
   ],
   "source": [
    "len(cssbbc.Hx)"
   ]
  },
  {
   "cell_type": "code",
   "execution_count": null,
   "metadata": {},
   "outputs": [
    {
     "name": "stdout",
     "output_type": "stream",
     "text": [
      "[0 1 1 0 0 0 0 0 0 0 0 0 0 0 0 0 0 0 1 0 0 0 0 0 0 0 0 0 0 0 0 0 0 0 0 0 0\n",
      " 0 0 0 0 0 0 0 0 0 0 0 0 0 0 0 0 0 0 0 0 0 0 0 0 0 0 0 0 0 0 0 0 0 0 0]\n"
     ]
    }
   ],
   "source": []
  },
  {
   "cell_type": "code",
   "execution_count": 3,
   "metadata": {},
   "outputs": [],
   "source": [
    "rep = RepetitionCode(\n",
    "    distance = 5,\n",
    "    depolarize1_rate = 0.01,\n",
    "    depolarize2_rate = 0.01\n",
    ")"
   ]
  },
  {
   "cell_type": "code",
   "execution_count": 26,
   "metadata": {},
   "outputs": [],
   "source": [
    "rot = RotatedSurfaceCode(\n",
    "    distance = 5,\n",
    "    depolarize1_rate = 0.01,\n",
    "    depolarize2_rate = 0.01\n",
    ")"
   ]
  },
  {
   "cell_type": "code",
   "execution_count": null,
   "metadata": {},
   "outputs": [
    {
     "name": "stdout",
     "output_type": "stream",
     "text": [
      "0\n",
      "1\n",
      "2\n",
      "3\n",
      "4\n",
      "5\n",
      "6\n",
      "7\n",
      "8\n"
     ]
    }
   ],
   "source": []
  },
  {
   "cell_type": "code",
   "execution_count": 17,
   "metadata": {},
   "outputs": [
    {
     "data": {
      "text/plain": [
       "<bound method BaseCode.get_check_label of <graphqec.codes.repetition_code.RepetitionCode object at 0x000001FED1909D50>>"
      ]
     },
     "execution_count": 17,
     "metadata": {},
     "output_type": "execute_result"
    }
   ],
   "source": [
    "rep.get_check_label"
   ]
  },
  {
   "cell_type": "code",
   "execution_count": 23,
   "metadata": {},
   "outputs": [
    {
     "name": "stdout",
     "output_type": "stream",
     "text": [
      "{}\n",
      "{}\n",
      "{}\n",
      "{}\n",
      "{}\n",
      "{}\n",
      "{}\n",
      "{}\n",
      "{}\n"
     ]
    }
   ],
   "source": [
    "for node in graph.nodes():\n",
    "    print(nx.get_node_attributes(graph,node))"
   ]
  },
  {
   "cell_type": "code",
   "execution_count": null,
   "metadata": {},
   "outputs": [],
   "source": []
  }
 ],
 "metadata": {
  "kernelspec": {
   "display_name": ".env",
   "language": "python",
   "name": "python3"
  },
  "language_info": {
   "codemirror_mode": {
    "name": "ipython",
    "version": 3
   },
   "file_extension": ".py",
   "mimetype": "text/x-python",
   "name": "python",
   "nbconvert_exporter": "python",
   "pygments_lexer": "ipython3",
   "version": "3.12.9"
  }
 },
 "nbformat": 4,
 "nbformat_minor": 2
}
