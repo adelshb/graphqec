{
 "cells": [
  {
   "cell_type": "code",
   "execution_count": 1,
   "metadata": {},
   "outputs": [],
   "source": [
    "import numpy as np\n",
    "import networkx as nx\n",
    "\n",
    "# from graphqec import RepetitionCode, RotatedSurfaceCode, CssCode, BivariateBicycleCode,commutation_test,row_sort\n",
    "from graphqec import RepetitionCode, RotatedSurfaceCode, CssCode, BivariateBicycleCode, code_tools\n"
   ]
  },
  {
   "cell_type": "code",
   "execution_count": 2,
   "metadata": {},
   "outputs": [],
   "source": [
    "bbc = BivariateBicycleCode(\n",
    "    Lx = 6,\n",
    "    Ly = 6,\n",
    "    a1 = 3,\n",
    "    a2 = 1,\n",
    "    a3 = 2,\n",
    "    b1 = 3,\n",
    "    b2 = 1,\n",
    "    b3 = 2,\n",
    ")\n",
    "\n",
    "A = bbc.A1+bbc.A2+bbc.A3\n",
    "B = bbc.B1+bbc.B2+bbc.B3\n",
    "\n",
    "Hx = [list(row) for row in np.hstack((bbc.A,bbc.B))]\n",
    "Hz = [list(row) for row in np.hstack((bbc.B.T, bbc.A.T))]\n",
    "\n",
    "cssbbc = CssCode(Hx,Hz)\n"
   ]
  },
  {
   "cell_type": "code",
   "execution_count": 3,
   "metadata": {},
   "outputs": [
    {
     "data": {
      "text/plain": [
       "('CSS [[72,12]]', 10)"
      ]
     },
     "execution_count": 3,
     "metadata": {},
     "output_type": "execute_result"
    }
   ],
   "source": [
    "cssbbc._name,cssbbc.distance_upper_bound()"
   ]
  },
  {
   "cell_type": "code",
   "execution_count": 4,
   "metadata": {},
   "outputs": [],
   "source": [
    "bbc1 = BivariateBicycleCode(\n",
    "    Lx = 15,\n",
    "    Ly = 3,\n",
    "    a1 = 9,\n",
    "    a2 = 1,\n",
    "    a3 = 2,\n",
    "    b1 = 0,\n",
    "    b2 = 2,\n",
    "    b3 = 7,\n",
    ")\n",
    "\n",
    "\n",
    "Hx1 = [list(row) for row in np.hstack((bbc1.A,bbc1.B))]\n",
    "Hz1 = [list(row) for row in np.hstack((bbc1.B.T, bbc1.A.T))]"
   ]
  },
  {
   "cell_type": "code",
   "execution_count": 5,
   "metadata": {},
   "outputs": [],
   "source": [
    "cssbbc1 = CssCode(Hx1,Hz1)"
   ]
  },
  {
   "cell_type": "code",
   "execution_count": 6,
   "metadata": {},
   "outputs": [
    {
     "data": {
      "text/plain": [
       "('CSS [[90,8]]', 12)"
      ]
     },
     "execution_count": 6,
     "metadata": {},
     "output_type": "execute_result"
    }
   ],
   "source": [
    "cssbbc1.name,cssbbc1.distance_upper_bound()"
   ]
  },
  {
   "cell_type": "code",
   "execution_count": 7,
   "metadata": {},
   "outputs": [],
   "source": [
    "bbc2 = BivariateBicycleCode(\n",
    "    Lx = 9,\n",
    "    Ly = 6,\n",
    "    a1 = 3,\n",
    "    a2 = 1,\n",
    "    a3 = 2,\n",
    "    b1 = 3,\n",
    "    b2 = 1,\n",
    "    b3 = 2,\n",
    ")\n",
    "\n",
    "\n",
    "Hx2 = [list(row) for row in np.hstack((bbc2.A,bbc2.B))]\n",
    "Hz2 = [list(row) for row in np.hstack((bbc2.B.T, bbc2.A.T))]\n",
    "\n"
   ]
  },
  {
   "cell_type": "code",
   "execution_count": 8,
   "metadata": {},
   "outputs": [],
   "source": [
    "cssbbc2 = CssCode(Hx2,Hz2)"
   ]
  },
  {
   "cell_type": "code",
   "execution_count": 9,
   "metadata": {},
   "outputs": [
    {
     "data": {
      "text/plain": [
       "('CSS [[108,8]]', 14)"
      ]
     },
     "execution_count": 9,
     "metadata": {},
     "output_type": "execute_result"
    }
   ],
   "source": [
    "cssbbc2._name,cssbbc2.distance_upper_bound()"
   ]
  },
  {
   "cell_type": "code",
   "execution_count": 10,
   "metadata": {},
   "outputs": [],
   "source": [
    "bbc3 = BivariateBicycleCode(\n",
    "    Lx = 12,\n",
    "    Ly = 6,\n",
    "    a1 = 3,\n",
    "    a2 = 1,\n",
    "    a3 = 2,\n",
    "    b1 = 3,\n",
    "    b2 = 1,\n",
    "    b3 = 2,\n",
    ")\n",
    "\n",
    "\n",
    "\n",
    "Hx3 = [list(row) for row in np.hstack((bbc3.A,bbc3.B))]\n",
    "Hz3 = [list(row) for row in np.hstack((bbc3.B.T, bbc3.A.T))]\n",
    "\n"
   ]
  },
  {
   "cell_type": "code",
   "execution_count": 11,
   "metadata": {},
   "outputs": [],
   "source": [
    "cssbbc3 = CssCode(Hx3,Hz3)"
   ]
  },
  {
   "cell_type": "code",
   "execution_count": 12,
   "metadata": {},
   "outputs": [
    {
     "data": {
      "text/plain": [
       "('CSS [[144,12]]', 16)"
      ]
     },
     "execution_count": 12,
     "metadata": {},
     "output_type": "execute_result"
    }
   ],
   "source": [
    "cssbbc3._name,cssbbc3.distance_upper_bound()"
   ]
  },
  {
   "cell_type": "code",
   "execution_count": 13,
   "metadata": {},
   "outputs": [],
   "source": [
    "bbc4 = BivariateBicycleCode(\n",
    "    Lx = 12,\n",
    "    Ly = 12,\n",
    "    a1 = 3,\n",
    "    a2 = 2,\n",
    "    a3 = 7,\n",
    "    b1 = 3,\n",
    "    b2 = 1,\n",
    "    b3 = 2,\n",
    ")\n",
    "\n",
    "\n",
    "\n",
    "Hx4 = [list(row) for row in np.hstack((bbc4.A,bbc4.B))]\n",
    "Hz4 = [list(row) for row in np.hstack((bbc4.B.T, bbc4.A.T))]"
   ]
  },
  {
   "cell_type": "code",
   "execution_count": 14,
   "metadata": {},
   "outputs": [],
   "source": [
    "cssbbc4 = CssCode(Hx4,Hz4)"
   ]
  },
  {
   "cell_type": "code",
   "execution_count": 15,
   "metadata": {},
   "outputs": [
    {
     "data": {
      "text/plain": [
       "('CSS [[288,12]]', 38)"
      ]
     },
     "execution_count": 15,
     "metadata": {},
     "output_type": "execute_result"
    }
   ],
   "source": [
    "cssbbc4._name,cssbbc4.distance_upper_bound()"
   ]
  },
  {
   "cell_type": "code",
   "execution_count": 16,
   "metadata": {},
   "outputs": [],
   "source": [
    "bbc5 = BivariateBicycleCode(\n",
    "    Lx = 30,\n",
    "    Ly = 6,\n",
    "    a1 = 9,\n",
    "    a2 = 1,\n",
    "    a3 = 2,\n",
    "    b1 = 3,\n",
    "    b2 = 25,\n",
    "    b3 = 26,\n",
    ")\n",
    "\n",
    "\n",
    "\n",
    "Hx5 = [list(row) for row in np.hstack((bbc5.A,bbc5.B))]\n",
    "Hz5 = [list(row) for row in np.hstack((bbc5.B.T, bbc5.A.T))]"
   ]
  },
  {
   "cell_type": "code",
   "execution_count": 17,
   "metadata": {},
   "outputs": [],
   "source": [
    "cssbbc5 = CssCode(Hx5,Hz5)"
   ]
  },
  {
   "cell_type": "code",
   "execution_count": 18,
   "metadata": {},
   "outputs": [
    {
     "data": {
      "text/plain": [
       "('CSS [[360,12]]', 54)"
      ]
     },
     "execution_count": 18,
     "metadata": {},
     "output_type": "execute_result"
    }
   ],
   "source": [
    "cssbbc5._name,cssbbc5.distance_upper_bound()"
   ]
  },
  {
   "cell_type": "code",
   "execution_count": 19,
   "metadata": {},
   "outputs": [],
   "source": [
    "bbc6 = BivariateBicycleCode(\n",
    "    Lx = 21,\n",
    "    Ly = 18,\n",
    "    a1 = 3,\n",
    "    a2 = 10,\n",
    "    a3 = 17,\n",
    "    b1 = 5,\n",
    "    b2 = 3,\n",
    "    b3 = 19,\n",
    ")\n",
    "\n",
    "\n",
    "\n",
    "Hx6 = [list(row) for row in np.hstack((bbc6.A,bbc6.B))]\n",
    "Hz6 = [list(row) for row in np.hstack((bbc6.B.T, bbc6.A.T))]"
   ]
  },
  {
   "cell_type": "code",
   "execution_count": 20,
   "metadata": {},
   "outputs": [],
   "source": [
    "cssbbc6 = CssCode(Hx6,Hz6)"
   ]
  },
  {
   "cell_type": "code",
   "execution_count": 21,
   "metadata": {},
   "outputs": [
    {
     "data": {
      "text/plain": [
       "('CSS [[756,16]]', 130)"
      ]
     },
     "execution_count": 21,
     "metadata": {},
     "output_type": "execute_result"
    }
   ],
   "source": [
    "cssbbc6._name,cssbbc6.distance_upper_bound()"
   ]
  },
  {
   "cell_type": "code",
   "execution_count": 12,
   "metadata": {},
   "outputs": [],
   "source": [
    "def gauss_elim(check_matrix):\n",
    "    ncols = len(check_matrix[0])\n",
    "    mtrans = code_tools.transpose_check(code_tools.row_sort(check_matrix))\n",
    "\n",
    "    marks = []\n",
    "\n",
    "    for col1 in range(ncols):\n",
    "        if 1 in mtrans[col1]:\n",
    "            mark = mtrans[col1].index(1)\n",
    "            marks.append(mark)\n",
    "            for col2 in range(ncols):\n",
    "                if col2!= col1 and mtrans[col2][mark]:\n",
    "                    mtrans[col2] = code_tools.add_rows(mtrans[col1],mtrans[col2])\n",
    "    \n",
    "    return code_tools.transpose_check(mtrans),marks"
   ]
  },
  {
   "cell_type": "code",
   "execution_count": 11,
   "metadata": {},
   "outputs": [],
   "source": [
    "Hxsteane = [[1,1,1,1,0,0,0],\n",
    "      [0,1,1,0,1,1,0],\n",
    "      [0,0,1,1,0,1,1],\n",
    "      ]\n"
   ]
  },
  {
   "cell_type": "code",
   "execution_count": 12,
   "metadata": {},
   "outputs": [],
   "source": [
    "cssst = CssCode(Hxsteane,Hxsteane)"
   ]
  },
  {
   "cell_type": "code",
   "execution_count": 13,
   "metadata": {},
   "outputs": [],
   "source": [
    "stlgx = cssst._logic_check"
   ]
  },
  {
   "cell_type": "code",
   "execution_count": 14,
   "metadata": {},
   "outputs": [
    {
     "name": "stdout",
     "output_type": "stream",
     "text": [
      "[[1, 0, 0, 1, 0, 0, 1]]\n",
      "[[1, 0, 0, 1, 0, 0, 1]]\n"
     ]
    }
   ],
   "source": [
    "for row in stlgx:\n",
    "    print(row)"
   ]
  },
  {
   "cell_type": "code",
   "execution_count": 15,
   "metadata": {},
   "outputs": [],
   "source": [
    "Hzsc = [[1,1,0,0,0,0,0,0,0],\n",
    "      [0,1,1,0,1,1,0,0,0],\n",
    "      [0,0,0,1,1,0,1,1,0],\n",
    "      [0,0,0,0,0,0,0,1,1],\n",
    "      ]\n",
    "\n",
    "Hxsc = [[1,1,0,1,1,0,0,0,0],\n",
    "      [0,0,1,0,0,1,0,0,0],\n",
    "      [0,0,0,1,0,0,1,0,0],\n",
    "      [0,0,0,0,1,1,0,1,1],\n",
    "      ]"
   ]
  },
  {
   "cell_type": "code",
   "execution_count": 16,
   "metadata": {},
   "outputs": [],
   "source": [
    "csssc =CssCode(Hxsc,Hzsc)"
   ]
  },
  {
   "cell_type": "code",
   "execution_count": 17,
   "metadata": {},
   "outputs": [],
   "source": [
    "sclgx = csssc._logic_check"
   ]
  },
  {
   "cell_type": "code",
   "execution_count": 18,
   "metadata": {},
   "outputs": [
    {
     "name": "stdout",
     "output_type": "stream",
     "text": [
      "[[1, 1, 0, 0, 0, 1, 0, 0, 0]]\n",
      "[[1, 0, 0, 0, 1, 0, 0, 0, 1]]\n"
     ]
    }
   ],
   "source": [
    "for row in sclgx:\n",
    "    print(row)"
   ]
  },
  {
   "cell_type": "code",
   "execution_count": 7,
   "metadata": {},
   "outputs": [],
   "source": [
    "def prep_matrix(check_matrix):\n",
    "    cmsort = code_tools.row_sort(check_matrix)\n",
    "    cmsextend = code_tools.row_extended_check(cmsort)\n",
    "    hf = code_tools.transpose_check(cmsextend)\n",
    "    return hf"
   ]
  },
  {
   "cell_type": "code",
   "execution_count": 37,
   "metadata": {},
   "outputs": [],
   "source": [
    "def compute_kernel(check_matrix):\n",
    "    nrows = len(check_matrix)\n",
    "    ncols = len(check_matrix[0])\n",
    "\n",
    "    marks = []\n",
    "\n",
    "    hf = prep_matrix(check_matrix)\n",
    "\n",
    "    for col1 in range(ncols):\n",
    "        print(col1)\n",
    "        mark = hf[col1].index(1)\n",
    "        marks.append(mark)\n",
    "        print(marks)\n",
    "        for col2 in range(ncols):\n",
    "            if col2 != col1:\n",
    "                if hf[col2][mark]:\n",
    "                    new_col = [(a+b)%2 for (a,b) in zip(hf[col1],hf[col2])]\n",
    "                    hf[col2] = new_col\n",
    "    \n",
    "    return hf,marks\n",
    "    "
   ]
  },
  {
   "cell_type": "code",
   "execution_count": null,
   "metadata": {},
   "outputs": [],
   "source": [
    "marks = []\n",
    "nrows = len(Hxsteane)\n",
    "ncols = len(Hxsteane[0])\n",
    "\n",
    "hsf = prep_matrix(Hxsteane)\n",
    "\n",
    "for col1 in range(ncols):\n",
    "\n",
    "    mark = hsf[col1].index(1)\n",
    "    marks.append(mark)\n",
    "    for col2 in range(ncols):\n",
    "\n",
    "        if col2!= col1:\n",
    "            if hsf[col2][mark]:\n",
    "                new_row = code_tools.add_rows(hsf[col1],hsf[col2])\n",
    "                hsf[col2] = new_row\n"
   ]
  },
  {
   "cell_type": "code",
   "execution_count": 11,
   "metadata": {},
   "outputs": [],
   "source": [
    "def leading_ones(check_matrix: list[list[int]]) -> dict[int, list[int]]:\n",
    "    r\"\"\"\n",
    "    Function taking in a check matrix as a list of binary lists and\n",
    "    outputs a dictionary mapping each index to the list of rows for\n",
    "    which that index is the leading one in the list.\n",
    "\n",
    "    :param check_matrix: list of binary lists\n",
    "\n",
    "    \"\"\"\n",
    "\n",
    "    leaders = {}\n",
    "\n",
    "    for row_index in range(len(check_matrix)):\n",
    "        if check_matrix[row_index].index(1) in leaders:\n",
    "            leaders[check_matrix[row_index].index(1)].append(row_index)\n",
    "        else:\n",
    "            leaders[check_matrix[row_index].index(1)] = [row_index]\n",
    "\n",
    "    return leaders"
   ]
  },
  {
   "cell_type": "code",
   "execution_count": null,
   "metadata": {},
   "outputs": [],
   "source": []
  },
  {
   "cell_type": "code",
   "execution_count": 12,
   "metadata": {},
   "outputs": [],
   "source": [
    "def row_sort(check_matrix: list[list[int]]) -> list[list[int]]:\n",
    "    r\"\"\"\n",
    "    Function taking in a check matrix as a list of binary lists and outputs\n",
    "    a sorted list of binary lists with the ordering determined by the\n",
    "    compare_rows function.\n",
    "    \"\"\"\n",
    "\n",
    "    num = len(check_matrix)\n",
    "    if num < 2:\n",
    "        return check_matrix\n",
    "    else:\n",
    "        first_half = row_sort(check_matrix[: int(num / 2)])\n",
    "        second_half = row_sort(check_matrix[int(num / 2) :])\n",
    "        sorted_full = []\n",
    "\n",
    "        while len(first_half) > 0 and len(second_half) > 0:\n",
    "            comp = compare_rows(first_half[0], second_half[0])\n",
    "            if comp:\n",
    "                sorted_full.append(second_half.pop(0))\n",
    "            else:\n",
    "                sorted_full.append(first_half.pop(0))\n",
    "\n",
    "        return sorted_full + first_half + second_half\n",
    "\n",
    "\n",
    "def compare_rows(row1: list[int], row2: list[int]) -> int:\n",
    "    r\"\"\"\n",
    "    A function that compares two rows based on the lowest unique non-zero element\n",
    "    index.\n",
    "\n",
    "    :param row1: binary list\n",
    "    :param row2: binary list\n",
    "    \"\"\"\n",
    "\n",
    "    assert len(row1) == len(row2)\n",
    "\n",
    "    row1p2 = [(a + b) % 2 for (a, b) in zip(row1, row2)]\n",
    "\n",
    "    if row1.index(1) == row1p2.index(1):\n",
    "        return 0\n",
    "    else:\n",
    "        return 1\n",
    "\n",
    "\n"
   ]
  },
  {
   "cell_type": "code",
   "execution_count": 13,
   "metadata": {},
   "outputs": [
    {
     "data": {
      "text/plain": [
       "180"
      ]
     },
     "execution_count": 13,
     "metadata": {},
     "output_type": "execute_result"
    }
   ],
   "source": [
    "len(Hx4)"
   ]
  },
  {
   "cell_type": "code",
   "execution_count": 22,
   "metadata": {},
   "outputs": [],
   "source": [
    "def row_reduced_binary_matrix1(check_matrix):\n",
    "\n",
    "    numcols = len(check_matrix)\n",
    "\n",
    "    if numcols ==1:\n",
    "        return check_matrix\n",
    "    else:\n",
    "        firstHalf = row_reduced_binary_matrix1(check_matrix[:int(numcols/2)])\n",
    "        secondHalf = row_reduced_binary_matrix1(check_matrix[int(numcols/2):])\n",
    "\n",
    "        rrank = code_tools.binary_rank(firstHalf)\n",
    "\n",
    "        for ii in range(len(secondHalf)):\n",
    "            newrank = code_tools.binary_rank(firstHalf+[secondHalf[ii]])\n",
    "            if newrank>rrank:\n",
    "                rrank = newrank\n",
    "                firstHalf.append(secondHalf[ii])\n",
    "        return firstHalf\n",
    "\n",
    "def row_reduced_binary_matrix2(check_matrix):\n",
    "\n",
    "        rrcheck = [check_matrix[0]]\n",
    "        rrank = 1\n",
    "\n",
    "        for ii in range(1, len(check_matrix)):\n",
    "            newrank = code_tools.binary_rank(rrcheck + [check_matrix[ii]])\n",
    "            if newrank > rrank:\n",
    "                rrank = newrank\n",
    "                rrcheck.append(check_matrix[ii])\n",
    "\n",
    "        return rrcheck"
   ]
  },
  {
   "cell_type": "code",
   "execution_count": 23,
   "metadata": {},
   "outputs": [],
   "source": [
    "Hx4red1 = row_reduced_binary_matrix1(Hx4)"
   ]
  },
  {
   "cell_type": "code",
   "execution_count": 24,
   "metadata": {},
   "outputs": [],
   "source": [
    "Hx4red2 = row_reduced_binary_matrix2(Hx4)"
   ]
  },
  {
   "cell_type": "code",
   "execution_count": 25,
   "metadata": {},
   "outputs": [],
   "source": [
    "Hx3red1 = row_reduced_binary_matrix1(Hx3)"
   ]
  },
  {
   "cell_type": "code",
   "execution_count": 26,
   "metadata": {},
   "outputs": [],
   "source": [
    "Hx3red2 = row_reduced_binary_matrix2(Hx3)"
   ]
  },
  {
   "cell_type": "code",
   "execution_count": 34,
   "metadata": {},
   "outputs": [],
   "source": [
    "def compute_x_logicals1(Hx,Hz):\n",
    "\n",
    "    # First find the kernel of Hz\n",
    "\n",
    "    zkern = code_tools.compute_kernel(code_tools.row_reduced_binary_matrix(Hz))\n",
    "\n",
    "    # now find elements of ker Hz that are independent of im Hx\n",
    "\n",
    "    # Hxw = [row for row in row_reduced_binary_matrix(self.Hx)]\n",
    "    Hxw = code_tools.row_reduced_binary_matrix(Hx)\n",
    "\n",
    "    starting_rank = code_tools.binary_rank(Hxw)\n",
    "    ranking_rank = starting_rank\n",
    "\n",
    "    for zrow in code_tools.row_reduced_binary_matrix(zkern):\n",
    "        new_rank = code_tools.binary_rank(Hxw + [zrow])\n",
    "        if new_rank > ranking_rank:  # If rank increases, new row is indept\n",
    "            Hxw.append(zrow)  # Add new row\n",
    "            ranking_rank = new_rank\n",
    "\n",
    "    xlogs = Hxw[-(ranking_rank - starting_rank) :]\n",
    "\n",
    "    return xlogs\n"
   ]
  },
  {
   "cell_type": "code",
   "execution_count": 35,
   "metadata": {},
   "outputs": [],
   "source": [
    "def compute_x_logicals2(Hx,Hz):\n",
    "\n",
    "    # First find the kernel of Hz\n",
    "\n",
    "    zkern = code_tools.compute_kernel(Hz)\n",
    "\n",
    "    # now find elements of ker Hz that are independent of im Hx\n",
    "\n",
    "    # Hxw = [row for row in row_reduced_binary_matrix(self.Hx)]\n",
    "    Hxw = [row for row in Hx]\n",
    "\n",
    "    starting_rank = code_tools.binary_rank(Hxw)\n",
    "    ranking_rank = starting_rank\n",
    "\n",
    "    for zrow in zkern:\n",
    "        new_rank = code_tools.binary_rank(Hxw + [zrow])\n",
    "        if new_rank > ranking_rank:  # If rank increases, new row is indept\n",
    "            Hxw.append(zrow)  # Add new row\n",
    "            ranking_rank = new_rank\n",
    "\n",
    "    xlogs = Hxw[-(ranking_rank - starting_rank) :]\n",
    "\n",
    "    return xlogs"
   ]
  },
  {
   "cell_type": "code",
   "execution_count": 32,
   "metadata": {},
   "outputs": [
    {
     "data": {
      "text/plain": [
       "(180, 180, True)"
      ]
     },
     "execution_count": 32,
     "metadata": {},
     "output_type": "execute_result"
    }
   ],
   "source": [
    "len(Hx4),len(Hz4),code_tools.commutation_test(Hx4,Hz4)"
   ]
  },
  {
   "cell_type": "code",
   "execution_count": null,
   "metadata": {},
   "outputs": [],
   "source": [
    "xL1 = compute_x_logicals1(Hx4,Hz4)"
   ]
  },
  {
   "cell_type": "code",
   "execution_count": null,
   "metadata": {},
   "outputs": [],
   "source": [
    "xL2 = compute_x_logicals2(Hx4,Hz4)"
   ]
  },
  {
   "cell_type": "code",
   "execution_count": 38,
   "metadata": {},
   "outputs": [],
   "source": [
    "xL1 = compute_x_logicals1(Hx3,Hz3)"
   ]
  },
  {
   "cell_type": "code",
   "execution_count": 39,
   "metadata": {},
   "outputs": [],
   "source": [
    "xL2 = compute_x_logicals2(Hx3,Hz3)"
   ]
  },
  {
   "cell_type": "code",
   "execution_count": null,
   "metadata": {},
   "outputs": [],
   "source": []
  }
 ],
 "metadata": {
  "kernelspec": {
   "display_name": ".env",
   "language": "python",
   "name": "python3"
  },
  "language_info": {
   "codemirror_mode": {
    "name": "ipython",
    "version": 3
   },
   "file_extension": ".py",
   "mimetype": "text/x-python",
   "name": "python",
   "nbconvert_exporter": "python",
   "pygments_lexer": "ipython3",
   "version": "3.12.9"
  }
 },
 "nbformat": 4,
 "nbformat_minor": 2
}
