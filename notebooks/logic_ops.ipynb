{
 "cells": [
  {
   "cell_type": "code",
   "execution_count": 1,
   "metadata": {},
   "outputs": [],
   "source": [
    "import numpy as np\n",
    "import networkx as nx\n",
    "\n",
    "# from graphqec import RepetitionCode, RotatedSurfaceCode, CssCode, BivariateBicycleCode,commutation_test,row_sort\n",
    "from graphqec import RepetitionCode, RotatedSurfaceCode, CssCode, BivariateBicycleCode, code_tools\n"
   ]
  },
  {
   "cell_type": "code",
   "execution_count": 2,
   "metadata": {},
   "outputs": [],
   "source": [
    "bbc = BivariateBicycleCode(\n",
    "    Lx = 6,\n",
    "    Ly = 6,\n",
    "    a1 = 3,\n",
    "    a2 = 1,\n",
    "    a3 = 2,\n",
    "    b1 = 3,\n",
    "    b2 = 1,\n",
    "    b3 = 2,\n",
    ")\n",
    "\n",
    "A = bbc.A1+bbc.A2+bbc.A3\n",
    "B = bbc.B1+bbc.B2+bbc.B3\n",
    "\n",
    "Hx = [list(row) for row in np.hstack((bbc.A,bbc.B))]\n",
    "Hz = [list(row) for row in np.hstack((bbc.B.T, bbc.A.T))]\n",
    "\n",
    "cssbbc = CssCode(Hx,Hz)\n"
   ]
  },
  {
   "cell_type": "code",
   "execution_count": 5,
   "metadata": {},
   "outputs": [],
   "source": [
    "logs = cssbbc._logic_check"
   ]
  },
  {
   "cell_type": "code",
   "execution_count": 6,
   "metadata": {},
   "outputs": [
    {
     "data": {
      "text/plain": [
       "(12, 12)"
      ]
     },
     "execution_count": 6,
     "metadata": {},
     "output_type": "execute_result"
    }
   ],
   "source": [
    "len(logs[0]),len(logs[1])"
   ]
  },
  {
   "cell_type": "code",
   "execution_count": 19,
   "metadata": {},
   "outputs": [
    {
     "data": {
      "text/plain": [
       "(False, True, True)"
      ]
     },
     "execution_count": 19,
     "metadata": {},
     "output_type": "execute_result"
    }
   ],
   "source": [
    "code_tools.commutation_test(logs[0],logs[1]),code_tools.commutation_test(cssbbc.Hz,logs[0]),code_tools.commutation_test(cssbbc.Hx,logs[1])"
   ]
  },
  {
   "cell_type": "code",
   "execution_count": 13,
   "metadata": {},
   "outputs": [
    {
     "name": "stdout",
     "output_type": "stream",
     "text": [
      "10\n"
     ]
    }
   ],
   "source": [
    "print(min([sum(row) for row in xlogs]))"
   ]
  },
  {
   "cell_type": "code",
   "execution_count": 6,
   "metadata": {},
   "outputs": [],
   "source": [
    "kern = code_tools.compute_kernel(Hx)"
   ]
  },
  {
   "cell_type": "code",
   "execution_count": 7,
   "metadata": {},
   "outputs": [
    {
     "data": {
      "text/plain": [
       "42"
      ]
     },
     "execution_count": 7,
     "metadata": {},
     "output_type": "execute_result"
    }
   ],
   "source": [
    "len(kern)"
   ]
  },
  {
   "cell_type": "code",
   "execution_count": 8,
   "metadata": {},
   "outputs": [],
   "source": [
    "ranking_rank = code_tools.binary_rank(Hz)\n",
    "Hzw = [row for row in Hz]\n",
    "for row in kern:\n",
    "    if code_tools.binary_rank(Hzw+[row]) > ranking_rank:\n",
    "        Hzw.append(row)\n",
    "        ranking_rank = code_tools.binary_rank(Hzw)\n",
    "        "
   ]
  },
  {
   "cell_type": "code",
   "execution_count": 9,
   "metadata": {},
   "outputs": [
    {
     "data": {
      "text/plain": [
       "12"
      ]
     },
     "execution_count": 9,
     "metadata": {},
     "output_type": "execute_result"
    }
   ],
   "source": [
    "len(Hzw)-len(Hz)"
   ]
  },
  {
   "cell_type": "code",
   "execution_count": 14,
   "metadata": {},
   "outputs": [
    {
     "data": {
      "text/plain": [
       "True"
      ]
     },
     "execution_count": 14,
     "metadata": {},
     "output_type": "execute_result"
    }
   ],
   "source": [
    "code_tools.commutation_test(Hx,Hzw[-12:])"
   ]
  },
  {
   "cell_type": "code",
   "execution_count": 42,
   "metadata": {},
   "outputs": [
    {
     "data": {
      "text/plain": [
       "36"
      ]
     },
     "execution_count": 42,
     "metadata": {},
     "output_type": "execute_result"
    }
   ],
   "source": [
    "len(Hx)"
   ]
  },
  {
   "cell_type": "code",
   "execution_count": 43,
   "metadata": {},
   "outputs": [
    {
     "data": {
      "text/plain": [
       "64"
      ]
     },
     "execution_count": 43,
     "metadata": {},
     "output_type": "execute_result"
    }
   ],
   "source": [
    "len(Hxn)"
   ]
  },
  {
   "cell_type": "code",
   "execution_count": 44,
   "metadata": {},
   "outputs": [
    {
     "data": {
      "text/plain": [
       "28"
      ]
     },
     "execution_count": 44,
     "metadata": {},
     "output_type": "execute_result"
    }
   ],
   "source": [
    "64-36"
   ]
  },
  {
   "cell_type": "code",
   "execution_count": null,
   "metadata": {},
   "outputs": [],
   "source": [
    "for row in kern:\n",
    "    print(len(row))"
   ]
  },
  {
   "cell_type": "code",
   "execution_count": 12,
   "metadata": {},
   "outputs": [],
   "source": [
    "def gauss_elim(check_matrix):\n",
    "    ncols = len(check_matrix[0])\n",
    "    mtrans = code_tools.transpose_check(code_tools.row_sort(check_matrix))\n",
    "\n",
    "    marks = []\n",
    "\n",
    "    for col1 in range(ncols):\n",
    "        if 1 in mtrans[col1]:\n",
    "            mark = mtrans[col1].index(1)\n",
    "            marks.append(mark)\n",
    "            for col2 in range(ncols):\n",
    "                if col2!= col1 and mtrans[col2][mark]:\n",
    "                    mtrans[col2] = code_tools.add_rows(mtrans[col1],mtrans[col2])\n",
    "    \n",
    "    return code_tools.transpose_check(mtrans),marks"
   ]
  },
  {
   "cell_type": "code",
   "execution_count": 25,
   "metadata": {},
   "outputs": [
    {
     "name": "stdout",
     "output_type": "stream",
     "text": [
      "[0, 1, 4, 6, 8, 2, 12, 13, 16, 18, 20, 14, 24, 25, 28, 30, 32, 26, 5, 3, 17, 15, 29, 27, 10, 11, 7, 9, 19, 21]\n"
     ]
    }
   ],
   "source": [
    "print(ms)"
   ]
  },
  {
   "cell_type": "code",
   "execution_count": 26,
   "metadata": {},
   "outputs": [
    {
     "data": {
      "text/plain": [
       "30"
      ]
     },
     "execution_count": 26,
     "metadata": {},
     "output_type": "execute_result"
    }
   ],
   "source": [
    "len(ms)"
   ]
  },
  {
   "cell_type": "code",
   "execution_count": 27,
   "metadata": {},
   "outputs": [
    {
     "data": {
      "text/plain": [
       "36"
      ]
     },
     "execution_count": 27,
     "metadata": {},
     "output_type": "execute_result"
    }
   ],
   "source": [
    "len(Hx)"
   ]
  },
  {
   "cell_type": "code",
   "execution_count": 18,
   "metadata": {},
   "outputs": [],
   "source": [
    "nzrows = 0\n",
    "for row in Hxge:\n",
    "    if not sum(row):\n",
    "        nzrows+=1"
   ]
  },
  {
   "cell_type": "code",
   "execution_count": 11,
   "metadata": {},
   "outputs": [],
   "source": [
    "Hxsteane = [[1,1,1,1,0,0,0],\n",
    "      [0,1,1,0,1,1,0],\n",
    "      [0,0,1,1,0,1,1],\n",
    "      ]\n"
   ]
  },
  {
   "cell_type": "code",
   "execution_count": 12,
   "metadata": {},
   "outputs": [],
   "source": [
    "cssst = CssCode(Hxsteane,Hxsteane)"
   ]
  },
  {
   "cell_type": "code",
   "execution_count": 13,
   "metadata": {},
   "outputs": [],
   "source": [
    "stlgx = cssst._logic_check"
   ]
  },
  {
   "cell_type": "code",
   "execution_count": 14,
   "metadata": {},
   "outputs": [
    {
     "name": "stdout",
     "output_type": "stream",
     "text": [
      "[[1, 0, 0, 1, 0, 0, 1]]\n",
      "[[1, 0, 0, 1, 0, 0, 1]]\n"
     ]
    }
   ],
   "source": [
    "for row in stlgx:\n",
    "    print(row)"
   ]
  },
  {
   "cell_type": "code",
   "execution_count": 15,
   "metadata": {},
   "outputs": [],
   "source": [
    "Hzsc = [[1,1,0,0,0,0,0,0,0],\n",
    "      [0,1,1,0,1,1,0,0,0],\n",
    "      [0,0,0,1,1,0,1,1,0],\n",
    "      [0,0,0,0,0,0,0,1,1],\n",
    "      ]\n",
    "\n",
    "Hxsc = [[1,1,0,1,1,0,0,0,0],\n",
    "      [0,0,1,0,0,1,0,0,0],\n",
    "      [0,0,0,1,0,0,1,0,0],\n",
    "      [0,0,0,0,1,1,0,1,1],\n",
    "      ]"
   ]
  },
  {
   "cell_type": "code",
   "execution_count": 16,
   "metadata": {},
   "outputs": [],
   "source": [
    "csssc =CssCode(Hxsc,Hzsc)"
   ]
  },
  {
   "cell_type": "code",
   "execution_count": 17,
   "metadata": {},
   "outputs": [],
   "source": [
    "sclgx = csssc._logic_check"
   ]
  },
  {
   "cell_type": "code",
   "execution_count": 18,
   "metadata": {},
   "outputs": [
    {
     "name": "stdout",
     "output_type": "stream",
     "text": [
      "[[1, 1, 0, 0, 0, 1, 0, 0, 0]]\n",
      "[[1, 0, 0, 0, 1, 0, 0, 0, 1]]\n"
     ]
    }
   ],
   "source": [
    "for row in sclgx:\n",
    "    print(row)"
   ]
  },
  {
   "cell_type": "code",
   "execution_count": 7,
   "metadata": {},
   "outputs": [],
   "source": [
    "def prep_matrix(check_matrix):\n",
    "    cmsort = code_tools.row_sort(check_matrix)\n",
    "    cmsextend = code_tools.row_extended_check(cmsort)\n",
    "    hf = code_tools.transpose_check(cmsextend)\n",
    "    return hf"
   ]
  },
  {
   "cell_type": "code",
   "execution_count": 37,
   "metadata": {},
   "outputs": [],
   "source": [
    "def compute_kernel(check_matrix):\n",
    "    nrows = len(check_matrix)\n",
    "    ncols = len(check_matrix[0])\n",
    "\n",
    "    marks = []\n",
    "\n",
    "    hf = prep_matrix(check_matrix)\n",
    "\n",
    "    for col1 in range(ncols):\n",
    "        print(col1)\n",
    "        mark = hf[col1].index(1)\n",
    "        marks.append(mark)\n",
    "        print(marks)\n",
    "        for col2 in range(ncols):\n",
    "            if col2 != col1:\n",
    "                if hf[col2][mark]:\n",
    "                    new_col = [(a+b)%2 for (a,b) in zip(hf[col1],hf[col2])]\n",
    "                    hf[col2] = new_col\n",
    "    \n",
    "    return hf,marks\n",
    "    "
   ]
  },
  {
   "cell_type": "code",
   "execution_count": null,
   "metadata": {},
   "outputs": [],
   "source": [
    "marks = []\n",
    "nrows = len(Hxsteane)\n",
    "ncols = len(Hxsteane[0])\n",
    "\n",
    "hsf = prep_matrix(Hxsteane)\n",
    "\n",
    "for col1 in range(ncols):\n",
    "\n",
    "    mark = hsf[col1].index(1)\n",
    "    marks.append(mark)\n",
    "    for col2 in range(ncols):\n",
    "\n",
    "        if col2!= col1:\n",
    "            if hsf[col2][mark]:\n",
    "                new_row = code_tools.add_rows(hsf[col1],hsf[col2])\n",
    "                hsf[col2] = new_row\n"
   ]
  },
  {
   "cell_type": "code",
   "execution_count": null,
   "metadata": {},
   "outputs": [],
   "source": []
  }
 ],
 "metadata": {
  "kernelspec": {
   "display_name": ".env",
   "language": "python",
   "name": "python3"
  },
  "language_info": {
   "codemirror_mode": {
    "name": "ipython",
    "version": 3
   },
   "file_extension": ".py",
   "mimetype": "text/x-python",
   "name": "python",
   "nbconvert_exporter": "python",
   "pygments_lexer": "ipython3",
   "version": "3.12.9"
  }
 },
 "nbformat": 4,
 "nbformat_minor": 2
}
