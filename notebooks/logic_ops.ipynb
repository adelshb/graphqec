{
 "cells": [
  {
   "cell_type": "code",
   "execution_count": null,
   "metadata": {},
   "outputs": [],
   "source": [
    "import numpy as np\n",
    "import networkx as nx\n",
    "\n",
    "# from graphqec import RepetitionCode, RotatedSurfaceCode, CssCode, BivariateBicycleCode,commutation_test,row_sort\n",
    "from graphqec import RepetitionCode, RotatedSurfaceCode, CssCode, BivariateBicycleCode\n"
   ]
  },
  {
   "cell_type": "code",
   "execution_count": 4,
   "metadata": {},
   "outputs": [],
   "source": [
    "bbc = BivariateBicycleCode(\n",
    "    Lx = 6,\n",
    "    Ly = 6,\n",
    "    a1 = 3,\n",
    "    a2 = 1,\n",
    "    a3 = 2,\n",
    "    b1 = 3,\n",
    "    b2 = 1,\n",
    "    b3 = 2,\n",
    ")"
   ]
  },
  {
   "cell_type": "code",
   "execution_count": 5,
   "metadata": {},
   "outputs": [],
   "source": [
    "A = bbc.A1+bbc.A2+bbc.A3\n",
    "B = bbc.B1+bbc.B2+bbc.B3"
   ]
  },
  {
   "cell_type": "code",
   "execution_count": 6,
   "metadata": {},
   "outputs": [],
   "source": [
    "Hx = np.hstack((bbc.A,bbc.B))\n",
    "Hz = np.hstack((bbc.B.T, bbc.A.T))"
   ]
  },
  {
   "cell_type": "code",
   "execution_count": 7,
   "metadata": {},
   "outputs": [],
   "source": [
    "Hp = bbc.compute_check_matrices()"
   ]
  },
  {
   "cell_type": "code",
   "execution_count": 8,
   "metadata": {},
   "outputs": [
    {
     "data": {
      "text/plain": [
       "1"
      ]
     },
     "execution_count": 8,
     "metadata": {},
     "output_type": "execute_result"
    }
   ],
   "source": [
    "lr_sum = [not (a+b)%2 for (a,b) in zip(Hx[0],Hx[1])]\n",
    "lr_sum.index(False)"
   ]
  },
  {
   "cell_type": "code",
   "execution_count": 9,
   "metadata": {},
   "outputs": [],
   "source": [
    "cssbbc = CssCode(Hx,Hz)"
   ]
  },
  {
   "cell_type": "code",
   "execution_count": 10,
   "metadata": {},
   "outputs": [
    {
     "name": "stdout",
     "output_type": "stream",
     "text": [
      "[3, 24, 30, 40, 41, 54]\n",
      "[4, 25, 31, 36, 41, 55]\n",
      "[5, 26, 32, 36, 37, 56]\n",
      "[0, 27, 33, 37, 38, 57]\n",
      "[1, 28, 34, 38, 39, 58]\n",
      "[2, 29, 35, 39, 40, 59]\n",
      "[0, 9, 30, 46, 47, 60]\n",
      "[1, 10, 31, 42, 47, 61]\n",
      "[2, 11, 32, 42, 43, 62]\n",
      "[3, 6, 33, 43, 44, 63]\n",
      "[4, 7, 34, 44, 45, 64]\n",
      "[5, 8, 35, 45, 46, 65]\n",
      "[0, 6, 15, 52, 53, 66]\n",
      "[1, 7, 16, 48, 53, 67]\n",
      "[2, 8, 17, 48, 49, 68]\n",
      "[3, 9, 12, 49, 50, 69]\n",
      "[4, 10, 13, 50, 51, 70]\n",
      "[5, 11, 14, 51, 52, 71]\n",
      "[6, 12, 21, 36, 58, 59]\n",
      "[7, 13, 22, 37, 54, 59]\n",
      "[8, 14, 23, 38, 54, 55]\n",
      "[9, 15, 18, 39, 55, 56]\n",
      "[10, 16, 19, 40, 56, 57]\n",
      "[11, 17, 20, 41, 57, 58]\n",
      "[12, 18, 27, 42, 64, 65]\n",
      "[13, 19, 28, 43, 60, 65]\n",
      "[14, 20, 29, 44, 60, 61]\n",
      "[15, 21, 24, 45, 61, 62]\n",
      "[16, 22, 25, 46, 62, 63]\n",
      "[17, 23, 26, 47, 63, 64]\n",
      "[18, 24, 33, 48, 70, 71]\n",
      "[19, 25, 34, 49, 66, 71]\n",
      "[20, 26, 35, 50, 66, 67]\n",
      "[21, 27, 30, 51, 67, 68]\n",
      "[22, 28, 31, 52, 68, 69]\n",
      "[23, 29, 32, 53, 69, 70]\n"
     ]
    }
   ],
   "source": [
    "for row in cssbbc.Hz:\n",
    "    supp = [ii for ii in range(len(row)) if row[ii]]\n",
    "    print(supp)"
   ]
  },
  {
   "cell_type": "code",
   "execution_count": 12,
   "metadata": {},
   "outputs": [],
   "source": [
    "row1 = Hx[0]\n",
    "row2 = Hx[1]"
   ]
  },
  {
   "cell_type": "code",
   "execution_count": 35,
   "metadata": {},
   "outputs": [],
   "source": [
    "if 0:\n",
    "    print(int(not 10))\n"
   ]
  },
  {
   "cell_type": "code",
   "execution_count": 12,
   "metadata": {},
   "outputs": [],
   "source": [
    "def compare_rows(row1:list[int],row2:list[int]):\n",
    "    assert(len(row1) == len(row2))\n",
    "    row1p2 = [(a+b)%2 for (a,b) in zip(row1,row2)]\n",
    "    row1t2 = [a*b for (a,b) in zip(row1,row2)]\n",
    "\n",
    "    if row1t2.count(1) == row1.count(1) and row1t2.count(1) == row2.count(1):\n",
    "        return (0,0)\n",
    "    else:\n",
    "        if row1.index(1) == row1p2.index(1):\n",
    "            return (0,1)\n",
    "        else:\n",
    "            return (1,0)"
   ]
  },
  {
   "cell_type": "code",
   "execution_count": 31,
   "metadata": {},
   "outputs": [],
   "source": [
    "def row_sort(check_matrix):\n",
    "    num = len(check_matrix)\n",
    "    if num <2:\n",
    "        return check_matrix\n",
    "    else:\n",
    "        first_half = row_sort(check_matrix[:int(num/2)])\n",
    "        second_half = row_sort(check_matrix[int(num/2):])\n",
    "        halfs = [first_half,second_half]\n",
    "        sorted_full = []\n",
    "\n",
    "        while len(first_half)>0 and len(second_half)>0:\n",
    "            comp = compare_rows(first_half[0],second_half[0])\n",
    "            if comp == (0,0):\n",
    "                sorted_full.append(first_half.pop(0))\n",
    "                del second_half[0]\n",
    "            elif comp[0]:\n",
    "                sorted_full.append(second_half.pop(0))\n",
    "            else:\n",
    "                sorted_full.append(first_half.pop(0))\n",
    "\n",
    "        return sorted_full+first_half+second_half\n"
   ]
  },
  {
   "cell_type": "code",
   "execution_count": null,
   "metadata": {},
   "outputs": [],
   "source": [
    "def order_rows(row1:list[int],row2:list[int]):\n",
    "    assert(len(row1) == len(row2))\n",
    "\n",
    "    row1p2 = [(a+b)%2 for (a,b) in zip(row1,row2)]\n",
    "    row1t2 = [a*b for (a,b) in zip(row1,row2)]\n",
    "\n",
    "    scenario_index = [row1.count(0)==row1t2.count(0),row2.count(0)==row1t2.count(0)]\n",
    "\n",
    "    # if all(scenario_index):\n",
    "    #     return [row1,row1p2]\n",
    "    if any(scenario_index):\n",
    "        row_index = scenario_index.index(True)\n",
    "        return order_rows(rows[row_index],row1p2)\n",
    "    else:\n",
    "        rows = [row1,row2]\n",
    "        tup = compare_rows(row1,row2)\n",
    "        return [rows[tup[0]],rows[tup[1]]]\n",
    "        \n",
    "\n",
    "    # elif tup == (0,1):\n",
    "    #     return order_rows(row1,row2)\n",
    "    # elif tup = (1,0):\n",
    "    #     return order_rows(row2,row1)\n",
    "    # else:\n",
    "    #     print('Should not have come to this')"
   ]
  }
 ],
 "metadata": {
  "kernelspec": {
   "display_name": ".env",
   "language": "python",
   "name": "python3"
  },
  "language_info": {
   "codemirror_mode": {
    "name": "ipython",
    "version": 3
   },
   "file_extension": ".py",
   "mimetype": "text/x-python",
   "name": "python",
   "nbconvert_exporter": "python",
   "pygments_lexer": "ipython3",
   "version": "3.12.9"
  }
 },
 "nbformat": 4,
 "nbformat_minor": 2
}
